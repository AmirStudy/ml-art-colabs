{
  "nbformat": 4,
  "nbformat_minor": 0,
  "metadata": {
    "colab": {
      "name": "Demucs.ipynb",
      "provenance": [],
      "collapsed_sections": [],
      "authorship_tag": "ABX9TyMJeONnnfa9+oLEmDDSnpUm",
      "include_colab_link": true
    },
    "kernelspec": {
      "name": "python3",
      "display_name": "Python 3"
    }
  },
  "cells": [
    {
      "cell_type": "markdown",
      "metadata": {
        "id": "view-in-github",
        "colab_type": "text"
      },
      "source": [
        "<a href=\"https://colab.research.google.com/github/dvschultz/ml-art-colabs/blob/master/Demucs.ipynb\" target=\"_parent\"><img src=\"https://colab.research.google.com/assets/colab-badge.svg\" alt=\"Open In Colab\"/></a>"
      ]
    },
    {
      "cell_type": "markdown",
      "metadata": {
        "id": "QoDSau5K9ibz",
        "colab_type": "text"
      },
      "source": [
        "#Demucs\n",
        "\n",
        "Demucs is a music source seperation model from Facebook. Provide it a song and it will seperate the track into individual files containing drums, bass, vocals, and \"other\".\n",
        "\n",
        "[Github Repo](https://github.com/facebookresearch/demucs)"
      ]
    },
    {
      "cell_type": "code",
      "metadata": {
        "id": "ECoHai3f-dHz",
        "colab_type": "code",
        "colab": {
          "base_uri": "https://localhost:8080/",
          "height": 666
        },
        "outputId": "3750ebf6-c7e4-49e1-c6bd-373fd94be026"
      },
      "source": [
        "!pip install lameenc musdb museval treetable"
      ],
      "execution_count": null,
      "outputs": [
        {
          "output_type": "stream",
          "text": [
            "Collecting lameenc\n",
            "\u001b[?25l  Downloading https://files.pythonhosted.org/packages/d0/7d/b62231b487e5bdd02489144dd0a0a85460b7288bec624cbae3872e7776c0/lameenc-1.2.2-cp36-cp36m-manylinux1_x86_64.whl (186kB)\n",
            "\r\u001b[K     |█▊                              | 10kB 15.1MB/s eta 0:00:01\r\u001b[K     |███▌                            | 20kB 2.7MB/s eta 0:00:01\r\u001b[K     |█████▎                          | 30kB 3.7MB/s eta 0:00:01\r\u001b[K     |███████                         | 40kB 4.3MB/s eta 0:00:01\r\u001b[K     |████████▊                       | 51kB 3.2MB/s eta 0:00:01\r\u001b[K     |██████████▌                     | 61kB 3.6MB/s eta 0:00:01\r\u001b[K     |████████████▎                   | 71kB 4.0MB/s eta 0:00:01\r\u001b[K     |██████████████                  | 81kB 4.4MB/s eta 0:00:01\r\u001b[K     |███████████████▉                | 92kB 4.5MB/s eta 0:00:01\r\u001b[K     |█████████████████▌              | 102kB 4.4MB/s eta 0:00:01\r\u001b[K     |███████████████████▎            | 112kB 4.4MB/s eta 0:00:01\r\u001b[K     |█████████████████████           | 122kB 4.4MB/s eta 0:00:01\r\u001b[K     |██████████████████████▉         | 133kB 4.4MB/s eta 0:00:01\r\u001b[K     |████████████████████████▋       | 143kB 4.4MB/s eta 0:00:01\r\u001b[K     |██████████████████████████▎     | 153kB 4.4MB/s eta 0:00:01\r\u001b[K     |████████████████████████████    | 163kB 4.4MB/s eta 0:00:01\r\u001b[K     |█████████████████████████████▉  | 174kB 4.4MB/s eta 0:00:01\r\u001b[K     |███████████████████████████████▋| 184kB 4.4MB/s eta 0:00:01\r\u001b[K     |████████████████████████████████| 194kB 4.4MB/s \n",
            "\u001b[?25hCollecting musdb\n",
            "  Downloading https://files.pythonhosted.org/packages/57/bd/98ba16482f610bcfa7fcc212175dc0bbf11976e0bc69319b4204b6dc3aec/musdb-0.3.1-py2.py3-none-any.whl\n",
            "Collecting museval\n",
            "  Downloading https://files.pythonhosted.org/packages/5a/5d/1419271e96537ea973d039818c7f164a150e68867fd216fd591d0a5e43b7/museval-0.3.0-py2.py3-none-any.whl\n",
            "Collecting treetable\n",
            "  Downloading https://files.pythonhosted.org/packages/b2/e5/f79fc97606be8763bc5a4a2be026a55e7e09f8c82634faa1c1cd65cee02a/treetable-0.2.3.tar.gz\n",
            "Collecting pyaml\n",
            "  Downloading https://files.pythonhosted.org/packages/15/c4/1310a054d33abc318426a956e7d6df0df76a6ddfa9c66f6310274fb75d42/pyaml-20.4.0-py2.py3-none-any.whl\n",
            "Collecting stempeg>=0.1.7\n",
            "\u001b[?25l  Downloading https://files.pythonhosted.org/packages/29/ab/6e7362cbff21c25e99cfc3ef116057a7f9ebe6f429a44038eef82de3479d/stempeg-0.1.8-py3-none-any.whl (509kB)\n",
            "\u001b[K     |████████████████████████████████| 512kB 12.6MB/s \n",
            "\u001b[?25hRequirement already satisfied: tqdm in /usr/local/lib/python3.6/dist-packages (from musdb) (4.41.1)\n",
            "Requirement already satisfied: numpy>=1.7 in /usr/local/lib/python3.6/dist-packages (from musdb) (1.18.5)\n",
            "Collecting soundfile>=0.9.0\n",
            "  Downloading https://files.pythonhosted.org/packages/eb/f2/3cbbbf3b96fb9fa91582c438b574cff3f45b29c772f94c400e2c99ef5db9/SoundFile-0.10.3.post1-py2.py3-none-any.whl\n",
            "Requirement already satisfied: jsonschema in /usr/local/lib/python3.6/dist-packages (from museval) (2.6.0)\n",
            "Requirement already satisfied: pandas>=0.25.0 in /usr/local/lib/python3.6/dist-packages (from museval) (1.0.5)\n",
            "Requirement already satisfied: scipy in /usr/local/lib/python3.6/dist-packages (from museval) (1.4.1)\n",
            "Collecting simplejson\n",
            "\u001b[?25l  Downloading https://files.pythonhosted.org/packages/73/96/1e6b19045375890068d7342cbe280dd64ae73fd90b9735b5efb8d1e044a1/simplejson-3.17.2-cp36-cp36m-manylinux2010_x86_64.whl (127kB)\n",
            "\u001b[K     |████████████████████████████████| 133kB 22.4MB/s \n",
            "\u001b[?25hRequirement already satisfied: PyYAML in /usr/local/lib/python3.6/dist-packages (from pyaml->musdb) (3.13)\n",
            "Requirement already satisfied: cffi>=1.0 in /usr/local/lib/python3.6/dist-packages (from soundfile>=0.9.0->musdb) (1.14.0)\n",
            "Requirement already satisfied: pytz>=2017.2 in /usr/local/lib/python3.6/dist-packages (from pandas>=0.25.0->museval) (2018.9)\n",
            "Requirement already satisfied: python-dateutil>=2.6.1 in /usr/local/lib/python3.6/dist-packages (from pandas>=0.25.0->museval) (2.8.1)\n",
            "Requirement already satisfied: pycparser in /usr/local/lib/python3.6/dist-packages (from cffi>=1.0->soundfile>=0.9.0->musdb) (2.20)\n",
            "Requirement already satisfied: six>=1.5 in /usr/local/lib/python3.6/dist-packages (from python-dateutil>=2.6.1->pandas>=0.25.0->museval) (1.15.0)\n",
            "Building wheels for collected packages: treetable\n",
            "  Building wheel for treetable (setup.py) ... \u001b[?25l\u001b[?25hdone\n",
            "  Created wheel for treetable: filename=treetable-0.2.3-cp36-none-any.whl size=6412 sha256=e60bfbd682d5a7b7d174a9189d96a274d9a2061dd06c911142c595b988a0954e\n",
            "  Stored in directory: /root/.cache/pip/wheels/01/aa/87/ee9b781c76d97b913543c962e28ccb24927e9bf24a2e490431\n",
            "Successfully built treetable\n",
            "Installing collected packages: lameenc, pyaml, soundfile, stempeg, musdb, simplejson, museval, treetable\n",
            "Successfully installed lameenc-1.2.2 musdb-0.3.1 museval-0.3.0 pyaml-20.4.0 simplejson-3.17.2 soundfile-0.10.3.post1 stempeg-0.1.8 treetable-0.2.3\n"
          ],
          "name": "stdout"
        }
      ]
    },
    {
      "cell_type": "code",
      "metadata": {
        "id": "vlzDcan5-oQb",
        "colab_type": "code",
        "colab": {
          "base_uri": "https://localhost:8080/",
          "height": 119
        },
        "outputId": "69a24044-0ebb-4c6f-e2cf-9b370fe139d4"
      },
      "source": [
        "!git clone https://github.com/facebookresearch/demucs"
      ],
      "execution_count": null,
      "outputs": [
        {
          "output_type": "stream",
          "text": [
            "Cloning into 'demucs'...\n",
            "remote: Enumerating objects: 1, done.\u001b[K\n",
            "remote: Counting objects: 100% (1/1), done.\u001b[K\n",
            "remote: Total 2843 (delta 0), reused 0 (delta 0), pack-reused 2842\u001b[K\n",
            "Receiving objects: 100% (2843/2843), 48.62 MiB | 29.88 MiB/s, done.\n",
            "Resolving deltas: 100% (205/205), done.\n"
          ],
          "name": "stdout"
        }
      ]
    },
    {
      "cell_type": "code",
      "metadata": {
        "id": "lh66M6v1_F1Z",
        "colab_type": "code",
        "colab": {
          "base_uri": "https://localhost:8080/",
          "height": 34
        },
        "outputId": "c367a829-920f-4f88-9d3a-0b00842cf670"
      },
      "source": [
        "%cd demucs/"
      ],
      "execution_count": null,
      "outputs": [
        {
          "output_type": "stream",
          "text": [
            "/content/demucs\n"
          ],
          "name": "stdout"
        }
      ]
    },
    {
      "cell_type": "code",
      "metadata": {
        "id": "5iXfkyi0_IUU",
        "colab_type": "code",
        "colab": {
          "base_uri": "https://localhost:8080/",
          "height": 102
        },
        "outputId": "69a474e7-0fd9-4759-e1f7-56fb4b3152f6"
      },
      "source": [
        "!python -m demucs.separate --dl -n tasnet_extra /content/AI_01.wav"
      ],
      "execution_count": null,
      "outputs": [
        {
          "output_type": "stream",
          "text": [
            "Downloading pre-trained model weights, this could take a while...\n",
            "100%|██████████████████████████████████████████████████████████████████████████████| 44.0M/44.0M [00:00<00:00, 99.4MB/s]\n",
            "Separated tracks will be stored in /content/demucs/separated/tasnet_extra\n",
            "Separating track /content/AI_01.wav\n",
            "100%|██████████████████████████████████████████████████████████████████████████████| 50/50 [04:14<00:00,  5.09s/seconds]\n"
          ],
          "name": "stdout"
        }
      ]
    },
    {
      "cell_type": "code",
      "metadata": {
        "id": "hOxcFXT3Bsup",
        "colab_type": "code",
        "colab": {
          "base_uri": "https://localhost:8080/",
          "height": 85
        },
        "outputId": "e8b86173-962e-4c14-f3a4-c1294a33dda3"
      },
      "source": [
        "!zip -r AI_01-tasnet_extra-shifts.zip ./separated/demucs/AI_01/*"
      ],
      "execution_count": null,
      "outputs": [
        {
          "output_type": "stream",
          "text": [
            "  adding: separated/demucs/AI_01/bass.wav (deflated 25%)\n",
            "  adding: separated/demucs/AI_01/drums.wav (deflated 5%)\n",
            "  adding: separated/demucs/AI_01/other.wav (deflated 5%)\n",
            "  adding: separated/demucs/AI_01/vocals.wav (deflated 7%)\n"
          ],
          "name": "stdout"
        }
      ]
    },
    {
      "cell_type": "code",
      "metadata": {
        "id": "aiQEk3vLHgT4",
        "colab_type": "code",
        "colab": {}
      },
      "source": [
        ""
      ],
      "execution_count": null,
      "outputs": []
    }
  ]
}