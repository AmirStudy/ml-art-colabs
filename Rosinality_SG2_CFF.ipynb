{
  "nbformat": 4,
  "nbformat_minor": 0,
  "metadata": {
    "colab": {
      "name": "Rosinality-SG2-CFF.ipynb",
      "provenance": [],
      "private_outputs": true,
      "collapsed_sections": [],
      "toc_visible": true,
      "machine_shape": "hm",
      "authorship_tag": "ABX9TyOciVeqvSNM09vg2o7UEgEM",
      "include_colab_link": true
    },
    "kernelspec": {
      "name": "python3",
      "display_name": "Python 3"
    },
    "accelerator": "GPU"
  },
  "cells": [
    {
      "cell_type": "markdown",
      "metadata": {
        "id": "view-in-github",
        "colab_type": "text"
      },
      "source": [
        "<a href=\"https://colab.research.google.com/github/dvschultz/ml-art-colabs/blob/master/Rosinality_SG2_CFF.ipynb\" target=\"_parent\"><img src=\"https://colab.research.google.com/assets/colab-badge.svg\" alt=\"Open In Colab\"/></a>"
      ]
    },
    {
      "cell_type": "code",
      "metadata": {
        "id": "MjjOn2fcENw_"
      },
      "source": [
        "%tensorflow_version 1.x"
      ],
      "execution_count": null,
      "outputs": []
    },
    {
      "cell_type": "code",
      "metadata": {
        "id": "mSfha-HJH4z8"
      },
      "source": [
        "!nvidia-smi"
      ],
      "execution_count": null,
      "outputs": []
    },
    {
      "cell_type": "code",
      "metadata": {
        "id": "qHdySThy-jY0"
      },
      "source": [
        "!git clone https://github.com/dvschultz/stylegan2-pytorch\n",
        "!pip install ninja\n",
        "%cd stylegan2-pytorch"
      ],
      "execution_count": null,
      "outputs": []
    },
    {
      "cell_type": "markdown",
      "metadata": {
        "id": "5alQ654FDcYF"
      },
      "source": [
        "## Convert .pkl"
      ]
    },
    {
      "cell_type": "code",
      "metadata": {
        "id": "FEjWd6SsDjIP"
      },
      "source": [
        "%cd /content\n",
        "!git clone https://github.com/dvschultz/stylegan2-ada\n",
        "!git clone https://github.com/NVlabs/stylegan2"
      ],
      "execution_count": null,
      "outputs": []
    },
    {
      "cell_type": "code",
      "metadata": {
        "id": "eyTVp7nWD0rd"
      },
      "source": [
        "!gdown --id {grdive_id} -O /content/network.pkl"
      ],
      "execution_count": null,
      "outputs": []
    },
    {
      "cell_type": "code",
      "metadata": {
        "id": "IiWqVUI_D3kL"
      },
      "source": [
        "cd /content/stylegan2-pytorch"
      ],
      "execution_count": null,
      "outputs": []
    },
    {
      "cell_type": "code",
      "metadata": {
        "id": "Ey4NSWeoD8th"
      },
      "source": [
        "!python /content/stylegan2-pytorch/convert_weight.py --repo /content/stylegan2-ada /content/network.pkl --gen --disc"
      ],
      "execution_count": null,
      "outputs": []
    },
    {
      "cell_type": "markdown",
      "metadata": {
        "id": "9RQheMvNFdoO"
      },
      "source": [
        "## Perform Factorization"
      ]
    },
    {
      "cell_type": "code",
      "metadata": {
        "id": "dpph4qrU_fX0"
      },
      "source": [
        "!python /content/stylegan2-pytorch/closed_form_factorization.py /content/network.pt --out /content/network-factor.pt"
      ],
      "execution_count": null,
      "outputs": []
    },
    {
      "cell_type": "code",
      "metadata": {
        "id": "D-6cnzYc_zrr"
      },
      "source": [
        "#python apply_factor.py -i [INDEX_OF_EIGENVECTOR] -d [DEGREE_OF_MOVE] -n [NUMBER_OF_SAMPLES] --ckpt [CHECKPOINT] [FACTOR_FILE]\n",
        "#python apply_factor.py -i 19 -d 5 -n 10 --ckpt [CHECKPOINT] factor.pt\n",
        "!python /content/stylegan2-pytorch/apply_factor.py -i 3 -d 5.0 -n 5 --ckpt /content/network.pt --out /content/network-factor.pt --size 1024 --video --vid_increment 0.1"
      ],
      "execution_count": null,
      "outputs": []
    },
    {
      "cell_type": "code",
      "metadata": {
        "id": "WejaKMXRd-B8"
      },
      "source": [
        "for i in range(10):\n",
        "    !python /content/stylegan2-pytorch/apply_factor.py -i {i} -d 5.0 -n 5 --ckpt /content/network.pt --out /content/network-factor.pt --size 1024 --video --vid_increment 0.1"
      ],
      "execution_count": null,
      "outputs": []
    }
  ]
}