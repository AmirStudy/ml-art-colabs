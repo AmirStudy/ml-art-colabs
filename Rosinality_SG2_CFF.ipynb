{
  "nbformat": 4,
  "nbformat_minor": 0,
  "metadata": {
    "colab": {
      "name": "Rosinality-SG2-CFF.ipynb",
      "provenance": [],
      "private_outputs": true,
      "collapsed_sections": [],
      "toc_visible": true,
      "machine_shape": "hm",
      "authorship_tag": "ABX9TyOQ+ue5PqxZ5rQl+C9UbgOp",
      "include_colab_link": true
    },
    "kernelspec": {
      "name": "python3",
      "display_name": "Python 3"
    },
    "accelerator": "GPU"
  },
  "cells": [
    {
      "cell_type": "markdown",
      "metadata": {
        "id": "view-in-github",
        "colab_type": "text"
      },
      "source": [
        "<a href=\"https://colab.research.google.com/github/dvschultz/ml-art-colabs/blob/master/Rosinality_SG2_CFF.ipynb\" target=\"_parent\"><img src=\"https://colab.research.google.com/assets/colab-badge.svg\" alt=\"Open In Colab\"/></a>"
      ]
    },
    {
      "cell_type": "code",
      "metadata": {
        "id": "MjjOn2fcENw_"
      },
      "source": [
        "%tensorflow_version 1.x\n",
        "!nvidia-smi"
      ],
      "execution_count": null,
      "outputs": []
    },
    {
      "cell_type": "code",
      "metadata": {
        "id": "qHdySThy-jY0"
      },
      "source": [
        "!git clone https://github.com/dvschultz/stylegan2-pytorch\n",
        "!pip install ninja\n",
        "%cd stylegan2-pytorch"
      ],
      "execution_count": null,
      "outputs": []
    },
    {
      "cell_type": "markdown",
      "metadata": {
        "id": "5alQ654FDcYF"
      },
      "source": [
        "## Convert .pkl"
      ]
    },
    {
      "cell_type": "code",
      "metadata": {
        "id": "FEjWd6SsDjIP"
      },
      "source": [
        "%cd /content\n",
        "# for ADA models\n",
        "!git clone https://github.com/dvschultz/stylegan2-ada\n",
        "# for SG2 models\n",
        "!git clone https://github.com/NVlabs/stylegan2"
      ],
      "execution_count": null,
      "outputs": []
    },
    {
      "cell_type": "code",
      "metadata": {
        "id": "-sDSQ4SlIoQX"
      },
      "source": [
        "!wget https://nvlabs-fi-cdn.nvidia.com/stylegan2-ada/pretrained/metfaces.pkl -O /content/metfaces.pkl\n"
      ],
      "execution_count": null,
      "outputs": []
    },
    {
      "cell_type": "code",
      "metadata": {
        "id": "eyTVp7nWD0rd"
      },
      "source": [
        "!gdown --id {gdrive_id} -O /content/network.pkl"
      ],
      "execution_count": null,
      "outputs": []
    },
    {
      "cell_type": "code",
      "metadata": {
        "id": "Ey4NSWeoD8th"
      },
      "source": [
        "!python /content/stylegan2-pytorch/convert_weight.py --repo /content/stylegan2-ada /content/metfaces.pkl --gen --disc"
      ],
      "execution_count": null,
      "outputs": []
    },
    {
      "cell_type": "markdown",
      "metadata": {
        "id": "9RQheMvNFdoO"
      },
      "source": [
        "## Perform Factorization"
      ]
    },
    {
      "cell_type": "code",
      "metadata": {
        "id": "dpph4qrU_fX0"
      },
      "source": [
        "!python /content/stylegan2-pytorch/closed_form_factorization.py /content/metfaces.pt --out /content/metfaces-factor.pt"
      ],
      "execution_count": null,
      "outputs": []
    },
    {
      "cell_type": "code",
      "metadata": {
        "id": "D-6cnzYc_zrr"
      },
      "source": [
        "#python apply_factor.py -i [INDEX_OF_EIGENVECTOR] -d [DEGREE_OF_MOVE] -n [NUMBER_OF_SAMPLES] --ckpt [CHECKPOINT] [FACTOR_FILE]\n",
        "#python apply_factor.py -i 19 -d 5 -n 10 --ckpt [CHECKPOINT] factor.pt\n",
        "!python /content/stylegan2-pytorch/apply_factor.py -i 0 -d 5.0 -n 8 --ckpt /content/metfaces.pt /content/metfaces-factor.pt --size 1024 --video --vid_increment 0.1"
      ],
      "execution_count": null,
      "outputs": []
    },
    {
      "cell_type": "code",
      "metadata": {
        "id": "WejaKMXRd-B8"
      },
      "source": [
        "for i in range(100):\n",
        "    !python /content/stylegan2-pytorch/apply_factor.py -i {i} -d 5.0 -n 5 --ckpt /content/metfaces.pt  /content/metfaces-factor.pt --size 1024 #--video --vid_increment 0.1"
      ],
      "execution_count": null,
      "outputs": []
    },
    {
      "cell_type": "code",
      "metadata": {
        "id": "CWULjtTzoMGI"
      },
      "source": [
        "!zip -r img.zip /content/factor_index-*_degree-5.0.png"
      ],
      "execution_count": null,
      "outputs": []
    },
    {
      "cell_type": "code",
      "metadata": {
        "id": "fKotXMHiXK0z"
      },
      "source": [
        ""
      ],
      "execution_count": null,
      "outputs": []
    }
  ]
}