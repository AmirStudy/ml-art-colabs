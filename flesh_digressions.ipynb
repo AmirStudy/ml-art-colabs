{
  "nbformat": 4,
  "nbformat_minor": 0,
  "metadata": {
    "colab": {
      "name": "flesh-digressions.ipynb",
      "provenance": [],
      "collapsed_sections": [],
      "toc_visible": true,
      "machine_shape": "hm",
      "authorship_tag": "ABX9TyMrMs61hRWFjWRLfKGXXXaE",
      "include_colab_link": true
    },
    "kernelspec": {
      "name": "python3",
      "display_name": "Python 3"
    },
    "accelerator": "GPU"
  },
  "cells": [
    {
      "cell_type": "markdown",
      "metadata": {
        "id": "view-in-github",
        "colab_type": "text"
      },
      "source": [
        "<a href=\"https://colab.research.google.com/github/dvschultz/ml-art-colabs/blob/master/flesh_digressions.ipynb\" target=\"_parent\"><img src=\"https://colab.research.google.com/assets/colab-badge.svg\" alt=\"Open In Colab\"/></a>"
      ]
    },
    {
      "cell_type": "markdown",
      "metadata": {
        "id": "AziEPhUfHnfP",
        "colab_type": "text"
      },
      "source": [
        "# Flesh Digressions\n",
        "### Producing Videos from circular loops of the constant and latent layers in StyleGAN2 \n",
        "\n",
        "Besides having the most metal name for a script, this is also a really funway to generate looping videos of a StyleGAN2 model. It creates a loop from the 4x4 constant layer and a loop of the latent space layer (z I assume?) to generate a different feeling looping video.\n",
        "\n",
        "Credit to [@aydaogman](https://twitter.com/AydaoGMan) for making this script."
      ]
    },
    {
      "cell_type": "code",
      "metadata": {
        "id": "gORlgsBhsgjm",
        "colab_type": "code",
        "colab": {
          "base_uri": "https://localhost:8080/",
          "height": 34
        },
        "outputId": "3a4df178-c03f-4349-abdd-fca6f231b910"
      },
      "source": [
        "%tensorflow_version 1.x"
      ],
      "execution_count": 1,
      "outputs": [
        {
          "output_type": "stream",
          "text": [
            "TensorFlow 1.x selected.\n"
          ],
          "name": "stdout"
        }
      ]
    },
    {
      "cell_type": "code",
      "metadata": {
        "id": "FXxfhVcFrfJk",
        "colab_type": "code",
        "colab": {
          "base_uri": "https://localhost:8080/",
          "height": 102
        },
        "outputId": "b2a217c4-0d61-4410-95e1-cd90f91a69ee"
      },
      "source": [
        "!git clone https://github.com/aydao/stylegan2-surgery"
      ],
      "execution_count": 2,
      "outputs": [
        {
          "output_type": "stream",
          "text": [
            "Cloning into 'stylegan2-surgery'...\n",
            "remote: Enumerating objects: 1532, done.\u001b[K\n",
            "remote: Total 1532 (delta 0), reused 0 (delta 0), pack-reused 1532\u001b[K\n",
            "Receiving objects: 100% (1532/1532), 17.00 MiB | 30.97 MiB/s, done.\n",
            "Resolving deltas: 100% (1052/1052), done.\n"
          ],
          "name": "stdout"
        }
      ]
    },
    {
      "cell_type": "markdown",
      "metadata": {
        "id": "EMPwkGDCG9sV",
        "colab_type": "text"
      },
      "source": [
        "Download a pkl file. You can use my FreaGAN pkl if you’d like (please credit me ([@dvsch](https://twitter.com/dvsch)) and [@aydaogman](https://twitter.com/AydaoGMan) if you share any images from this model)"
      ]
    },
    {
      "cell_type": "code",
      "metadata": {
        "id": "nAp0Tt7yr6bE",
        "colab_type": "code",
        "colab": {
          "base_uri": "https://localhost:8080/",
          "height": 85
        },
        "outputId": "bcda53a5-ad8f-44b5-a2b0-1f7f7c48f633"
      },
      "source": [
        "!gdown --id 1K7mgdzdQwOERoyft95eFg1-5Tj4XcMAc"
      ],
      "execution_count": null,
      "outputs": [
        {
          "output_type": "stream",
          "text": [
            "Downloading...\n",
            "From: https://drive.google.com/uc?id=1K7mgdzdQwOERoyft95eFg1-5Tj4XcMAc\n",
            "To: /content/FreaGAN-6000-steps.pkl\n",
            "382MB [00:04, 79.6MB/s]\n"
          ],
          "name": "stdout"
        }
      ]
    },
    {
      "cell_type": "code",
      "metadata": {
        "id": "_kpvc-pxsOKQ",
        "colab_type": "code",
        "colab": {
          "base_uri": "https://localhost:8080/",
          "height": 34
        },
        "outputId": "34184f64-09b2-4741-b761-ebcd6c3cede4"
      },
      "source": [
        "%cd stylegan2-surgery/"
      ],
      "execution_count": 3,
      "outputs": [
        {
          "output_type": "stream",
          "text": [
            "/content/stylegan2-surgery\n"
          ],
          "name": "stdout"
        }
      ]
    },
    {
      "cell_type": "markdown",
      "metadata": {
        "id": "cNVmp4D6HQQd",
        "colab_type": "text"
      },
      "source": [
        "## Generate Video\n",
        "\n",
        "#### Options\n",
        "*   `--pkl`: point this to your pkl model file\n",
        "*   `--psi`: truncation value\n",
        "*   `--radius_large`: how large of a loop the constant layer should be \n",
        "*   `--radius_small`: how large of a loop the latent space layer should be \n",
        "*   `--step1`: increment step for the constant layer \n",
        "*   `--step2`: increment step for the latent space layer \n",
        "*   `--video_length`: length of video in circular interpolation (ex. default is 1.0, step2 is 0.0025, so video length is 400 frames)\n",
        "\n",
        "I recommend starting with all the default values and playing with them from there."
      ]
    },
    {
      "cell_type": "code",
      "metadata": {
        "id": "y85_aIs9HHfE",
        "colab_type": "code",
        "colab": {}
      },
      "source": [
        "pkl = \"/content/Metamorphik-18k.pkl\""
      ],
      "execution_count": 4,
      "outputs": []
    },
    {
      "cell_type": "code",
      "metadata": {
        "id": "Nt9IAnWbsWj_",
        "colab_type": "code",
        "colab": {
          "base_uri": "https://localhost:8080/",
          "height": 165
        },
        "outputId": "4e542507-7dd0-4ea4-e5ec-d033b694f15a"
      },
      "source": [
        "!python aydao_flesh_digressions.py --pkl $pkl --psi=0.5 --radius_small=10.0 --radius_large=1000.00"
      ],
      "execution_count": null,
      "outputs": [
        {
          "output_type": "stream",
          "text": [
            "Imageio: 'ffmpeg-linux64-v3.3.1' was not found on your computer; downloading it now.\n",
            "Try 1. Download from https://github.com/imageio/imageio-binaries/raw/master/ffmpeg/ffmpeg-linux64-v3.3.1 (43.8 MB)\n",
            "Downloading: 8192/45929032 bytes (0.0%)\b\b\b\b\b\b\b\b\b\b\b\b\b\b\b\b\b\b\b\b\b\b\b\b\b\b966656/45929032 bytes (2.1%)\b\b\b\b\b\b\b\b\b\b\b\b\b\b\b\b\b\b\b\b\b\b\b\b\b\b\b\b2809856/45929032 bytes (6.1%)\b\b\b\b\b\b\b\b\b\b\b\b\b\b\b\b\b\b\b\b\b\b\b\b\b\b\b\b\b5709824/45929032 bytes (12.4%)\b\b\b\b\b\b\b\b\b\b\b\b\b\b\b\b\b\b\b\b\b\b\b\b\b\b\b\b\b\b9494528/45929032 bytes (20.7%)\b\b\b\b\b\b\b\b\b\b\b\b\b\b\b\b\b\b\b\b\b\b\b\b\b\b\b\b\b\b13361152/45929032 bytes (29.1%)\b\b\b\b\b\b\b\b\b\b\b\b\b\b\b\b\b\b\b\b\b\b\b\b\b\b\b\b\b\b\b17195008/45929032 bytes (37.4%)\b\b\b\b\b\b\b\b\b\b\b\b\b\b\b\b\b\b\b\b\b\b\b\b\b\b\b\b\b\b\b20922368/45929032 bytes (45.6%)\b\b\b\b\b\b\b\b\b\b\b\b\b\b\b\b\b\b\b\b\b\b\b\b\b\b\b\b\b\b\b24780800/45929032 bytes (54.0%)\b\b\b\b\b\b\b\b\b\b\b\b\b\b\b\b\b\b\b\b\b\b\b\b\b\b\b\b\b\b\b28524544/45929032 bytes (62.1%)\b\b\b\b\b\b\b\b\b\b\b\b\b\b\b\b\b\b\b\b\b\b\b\b\b\b\b\b\b\b\b32440320/45929032 bytes (70.6%)\b\b\b\b\b\b\b\b\b\b\b\b\b\b\b\b\b\b\b\b\b\b\b\b\b\b\b\b\b\b\b36241408/45929032 bytes (78.9%)\b\b\b\b\b\b\b\b\b\b\b\b\b\b\b\b\b\b\b\b\b\b\b\b\b\b\b\b\b\b\b40148992/45929032 bytes (87.4%)\b\b\b\b\b\b\b\b\b\b\b\b\b\b\b\b\b\b\b\b\b\b\b\b\b\b\b\b\b\b\b43802624/45929032 bytes (95.4%)\b\b\b\b\b\b\b\b\b\b\b\b\b\b\b\b\b\b\b\b\b\b\b\b\b\b\b\b\b\b\b45929032/45929032 bytes (100.0%)\n",
            "  Done\n",
            "File saved as /root/.imageio/ffmpeg/ffmpeg-linux64-v3.3.1.\n",
            "Setting up TensorFlow plugin \"fused_bias_act.cu\": Preprocessing... Compiling... Loading... Done.\n",
            "Setting up TensorFlow plugin \"upfirdn_2d.cu\": Preprocessing... Compiling... Loading... Done.\n"
          ],
          "name": "stdout"
        }
      ]
    },
    {
      "cell_type": "code",
      "metadata": {
        "id": "yZcHI-D-LBCQ",
        "colab_type": "code",
        "colab": {}
      },
      "source": [
        ""
      ],
      "execution_count": null,
      "outputs": []
    }
  ]
}