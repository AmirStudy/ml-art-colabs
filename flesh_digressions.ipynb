{
  "nbformat": 4,
  "nbformat_minor": 0,
  "metadata": {
    "colab": {
      "name": "flesh-digressions.ipynb",
      "provenance": [],
      "collapsed_sections": [],
      "toc_visible": true,
      "machine_shape": "hm",
      "authorship_tag": "ABX9TyNzxsv7oBSOLn/lALdQsk4e",
      "include_colab_link": true
    },
    "kernelspec": {
      "name": "python3",
      "display_name": "Python 3"
    },
    "accelerator": "GPU"
  },
  "cells": [
    {
      "cell_type": "markdown",
      "metadata": {
        "id": "view-in-github",
        "colab_type": "text"
      },
      "source": [
        "<a href=\"https://colab.research.google.com/github/dvschultz/ml-art-colabs/blob/master/flesh_digressions.ipynb\" target=\"_parent\"><img src=\"https://colab.research.google.com/assets/colab-badge.svg\" alt=\"Open In Colab\"/></a>"
      ]
    },
    {
      "cell_type": "markdown",
      "metadata": {
        "id": "AziEPhUfHnfP",
        "colab_type": "text"
      },
      "source": [
        "# Flesh Digressions\n",
        "### Producing Videos from circular loops of the constant and latent layers in StyleGAN2 \n",
        "\n",
        "Besides having the most metal name for a script, this is also a really funway to generate looping videos of a StyleGAN2 model. It creates a loop from the 4x4 constant layer and a loop of the latent space layer (z I assume?) to generate a different feeling looping video.\n",
        "\n",
        "Credit to [@aydaogman](https://twitter.com/AydaoGMan) for making this script."
      ]
    },
    {
      "cell_type": "code",
      "metadata": {
        "id": "gORlgsBhsgjm",
        "colab_type": "code",
        "colab": {}
      },
      "source": [
        "%tensorflow_version 1.x"
      ],
      "execution_count": null,
      "outputs": []
    },
    {
      "cell_type": "code",
      "metadata": {
        "id": "FXxfhVcFrfJk",
        "colab_type": "code",
        "colab": {}
      },
      "source": [
        "!git clone https://github.com/aydao/stylegan2-surgery"
      ],
      "execution_count": null,
      "outputs": []
    },
    {
      "cell_type": "markdown",
      "metadata": {
        "id": "EMPwkGDCG9sV",
        "colab_type": "text"
      },
      "source": [
        "Download a pkl file. You can use my FreaGAN pkl if you’d like (please credit me ([@dvsch](https://twitter.com/dvsch)) and [@aydaogman](https://twitter.com/AydaoGMan) if you share any images from this model)"
      ]
    },
    {
      "cell_type": "code",
      "metadata": {
        "id": "nAp0Tt7yr6bE",
        "colab_type": "code",
        "colab": {}
      },
      "source": [
        "!gdown --id 1K7mgdzdQwOERoyft95eFg1-5Tj4XcMAc"
      ],
      "execution_count": null,
      "outputs": []
    },
    {
      "cell_type": "code",
      "metadata": {
        "id": "_kpvc-pxsOKQ",
        "colab_type": "code",
        "colab": {}
      },
      "source": [
        "%cd stylegan2-surgery/"
      ],
      "execution_count": null,
      "outputs": []
    },
    {
      "cell_type": "markdown",
      "metadata": {
        "id": "cNVmp4D6HQQd",
        "colab_type": "text"
      },
      "source": [
        "## Generate Video\n",
        "\n",
        "#### Options\n",
        "*   `--pkl`: point this to your pkl model file\n",
        "*   `--psi`: truncation value\n",
        "*   `--radius_large`: how large of a loop the constant layer should be \n",
        "*   `--radius_small`: how large of a loop the latent space layer should be \n",
        "*   `--step1`: increment step for the constant layer \n",
        "*   `--step2`: increment step for the latent space layer \n",
        "*   `--video_length`: length of video in circular interpolation (ex. default is 1.0, step2 is 0.0025, so video length is 400 frames)\n",
        "\n",
        "I recommend starting with all the default values and playing with them from there."
      ]
    },
    {
      "cell_type": "code",
      "metadata": {
        "id": "y85_aIs9HHfE",
        "colab_type": "code",
        "colab": {}
      },
      "source": [
        "pkl = \"/content/FreaGAN-6000-steps.pkl\""
      ],
      "execution_count": null,
      "outputs": []
    },
    {
      "cell_type": "code",
      "metadata": {
        "id": "Nt9IAnWbsWj_",
        "colab_type": "code",
        "colab": {}
      },
      "source": [
        "!python aydao_flesh_digressions.py --pkl $pkl --psi=0.5 --radius_small=9.8 --radius_large=1002.00"
      ],
      "execution_count": null,
      "outputs": []
    },
    {
      "cell_type": "code",
      "metadata": {
        "id": "yZcHI-D-LBCQ",
        "colab_type": "code",
        "colab": {}
      },
      "source": [
        ""
      ],
      "execution_count": null,
      "outputs": []
    }
  ]
}