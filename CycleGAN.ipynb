{
  "nbformat": 4,
  "nbformat_minor": 0,
  "metadata": {
    "colab": {
      "name": "CycleGAN.ipynb",
      "private_outputs": true,
      "provenance": [],
      "collapsed_sections": [],
      "machine_shape": "hm",
      "authorship_tag": "ABX9TyP3rEAlS9pRBXWKY8hl31rF",
      "include_colab_link": true
    },
    "kernelspec": {
      "name": "python3",
      "display_name": "Python 3"
    },
    "accelerator": "GPU"
  },
  "cells": [
    {
      "cell_type": "markdown",
      "metadata": {
        "id": "view-in-github",
        "colab_type": "text"
      },
      "source": [
        "<a href=\"https://colab.research.google.com/github/dvschultz/ml-art-colabs/blob/master/CycleGAN.ipynb\" target=\"_parent\"><img src=\"https://colab.research.google.com/assets/colab-badge.svg\" alt=\"Open In Colab\"/></a>"
      ]
    },
    {
      "cell_type": "markdown",
      "metadata": {
        "id": "0h52XRbEyArz"
      },
      "source": [
        "#CycleGAN\n",
        "\n",
        "[Github repo](https://github.com/junyanz/pytorch-CycleGAN-and-pix2pix)\n",
        "\n",
        "\n",
        "---\n",
        "\n",
        "\n",
        "If you find this notebook useful, consider signing up for my [Patreon](https://www.patreon.com/bustbright) or [YouTube channel](https://www.youtube.com/channel/UCaZuPdmZ380SFUMKHVsv_AA/join). You can also send me a one-time payment on [Venmo](https://venmo.com/Derrick-Schultz)."
      ]
    },
    {
      "cell_type": "markdown",
      "metadata": {
        "id": "haVJD2jM4LOb"
      },
      "source": [
        "## Colab Setup"
      ]
    },
    {
      "cell_type": "code",
      "metadata": {
        "id": "wCnl0viwo4Pf"
      },
      "source": [
        "!nvidia-smi -L"
      ],
      "execution_count": null,
      "outputs": []
    },
    {
      "cell_type": "code",
      "metadata": {
        "id": "MNKd6EXPo9wM"
      },
      "source": [
        "from google.colab import drive\n",
        "drive.mount('/content/drive')"
      ],
      "execution_count": null,
      "outputs": []
    },
    {
      "cell_type": "markdown",
      "metadata": {
        "id": "-ZoTa218pT1b"
      },
      "source": [
        "## Install Repo"
      ]
    },
    {
      "cell_type": "code",
      "metadata": {
        "id": "_nH7KmVWpDEn"
      },
      "source": [
        "import os\n",
        "\n",
        "if os.path.isdir(\"/content/drive/MyDrive/colab-cyclegan/pytorch-CycleGAN-and-pix2pix/\"):\n",
        "    %cd /content/drive/MyDrive/colab-cyclegan/pytorch-CycleGAN-and-pix2pix/\n",
        "elif os.path.isdir(\"/content/drive/\"):\n",
        "    !mkdir /content/drive/MyDrive/colab-cyclegan\n",
        "    %cd /content/drive/MyDrive/colab-cyclegan\n",
        "    !git clone https://github.com/junyanz/pytorch-CycleGAN-and-pix2pix\n",
        "    %cd pytorch-CycleGAN-and-pix2pix\n",
        "else:\n",
        "    print('Drive not mounted, installing in /content/')  \n",
        "    !git clone https://github.com/junyanz/pytorch-CycleGAN-and-pix2pix\n",
        "    %cd pytorch-CycleGAN-and-pix2pix\n",
        "\n",
        "#install dependencies\n",
        "!pip install dominate visdom"
      ],
      "execution_count": null,
      "outputs": []
    },
    {
      "cell_type": "markdown",
      "metadata": {
        "id": "Y6m2LbytqESN"
      },
      "source": [
        "## Dataset Preparation\n",
        "\n",
        "Create a folder in `./datasets` and put two folders inside it. `trainA` should contain images from one domain and `trainB` should contain images from another domain."
      ]
    },
    {
      "cell_type": "code",
      "metadata": {
        "id": "KFtoIRijp7Wf"
      },
      "source": [
        "#example dataset\n",
        "!bash ./datasets/download_cyclegan_dataset.sh maps"
      ],
      "execution_count": null,
      "outputs": []
    },
    {
      "cell_type": "markdown",
      "metadata": {
        "id": "twmO-putqjrr"
      },
      "source": [
        "If you have a dataset in a similar format (CUT, MUNIT, etc.) you can copy that dataset into your CycleGAN folder using something like the following. (first path should be your dataset path, second path should be where to copy it.)"
      ]
    },
    {
      "cell_type": "code",
      "metadata": {
        "id": "1148fkoFqazp"
      },
      "source": [
        "!cp -avr /content/drive/MyDrive/colab-munit/MUNIT/datasets/tjpd2seguy/ /content/drive/MyDrive/colab-cyclegan/pytorch-CycleGAN-and-pix2pix/datasets/desjpn2seguy/"
      ],
      "execution_count": null,
      "outputs": []
    },
    {
      "cell_type": "markdown",
      "metadata": {
        "id": "pUna4cZyq-9x"
      },
      "source": [
        "## Training"
      ]
    },
    {
      "cell_type": "code",
      "metadata": {
        "id": "ZpRBBx3d4JD_"
      },
      "source": [
        "!python train.py --help"
      ],
      "execution_count": null,
      "outputs": []
    },
    {
      "cell_type": "code",
      "metadata": {
        "id": "mNrq3T29v7bU"
      },
      "source": [
        "dataset_path = './datasets/desjpn2seguy'\n",
        "project_name = 'desjpn2seguy'\n",
        "load_size = 1080\n",
        "crop_size = 512"
      ],
      "execution_count": null,
      "outputs": []
    },
    {
      "cell_type": "code",
      "metadata": {
        "id": "yITjHJfRqijE"
      },
      "source": [
        "!python train.py --dataroot $dataset_path --name $project_name --load_size $load_size --crop_size $crop_size --display_id 0 --model cycle_gan"
      ],
      "execution_count": null,
      "outputs": []
    },
    {
      "cell_type": "markdown",
      "metadata": {
        "id": "O3YxqY0nxqqw"
      },
      "source": [
        "### Resume Training\n"
      ]
    },
    {
      "cell_type": "code",
      "metadata": {
        "id": "Btg60cvGxsSK"
      },
      "source": [
        "!python train.py --dataroot $dataset_path --name $project_name --load_size $load_size --crop_size $crop_size --display_id 0 --n_epochs 200 --n_epochs_decay 200 --model cycle_gan --continue_train"
      ],
      "execution_count": null,
      "outputs": []
    },
    {
      "cell_type": "markdown",
      "metadata": {
        "id": "YPcv3ykownJy"
      },
      "source": [
        "## Testing/Inference"
      ]
    },
    {
      "cell_type": "code",
      "metadata": {
        "id": "Itj-ax7RwmKo"
      },
      "source": [
        "!python test.py --dataroot $dataset_path --name $project_name --model cycle_gan"
      ],
      "execution_count": null,
      "outputs": []
    }
  ]
}