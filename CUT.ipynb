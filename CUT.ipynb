{
  "nbformat": 4,
  "nbformat_minor": 0,
  "metadata": {
    "colab": {
      "name": "CUT.ipynb",
      "provenance": [],
      "machine_shape": "hm",
      "authorship_tag": "ABX9TyMWnlabfZ5XTk0nTjTr0D5d",
      "include_colab_link": true
    },
    "kernelspec": {
      "name": "python3",
      "display_name": "Python 3"
    },
    "accelerator": "GPU"
  },
  "cells": [
    {
      "cell_type": "markdown",
      "metadata": {
        "id": "view-in-github",
        "colab_type": "text"
      },
      "source": [
        "<a href=\"https://colab.research.google.com/github/dvschultz/ml-art-colabs/blob/master/CUT.ipynb\" target=\"_parent\"><img src=\"https://colab.research.google.com/assets/colab-badge.svg\" alt=\"Open In Colab\"/></a>"
      ]
    },
    {
      "cell_type": "markdown",
      "metadata": {
        "id": "TVR4bEt9Ptel",
        "colab_type": "text"
      },
      "source": [
        "#CUT\n",
        "This new model uses contrastive learning (the hot technique of the moment) to better train unaligned image to image translation (i.e. CycleGAN)\n",
        "\n",
        "[GitHub](https://github.com/taesungp/contrastive-unpaired-translation)"
      ]
    },
    {
      "cell_type": "code",
      "metadata": {
        "id": "OHt7jlAPKw2l",
        "colab_type": "code",
        "colab": {}
      },
      "source": [
        "!git clone https://github.com/taesungp/contrastive-unpaired-translation CUT\n",
        "!pip install dominate visdom GPUtil\n",
        "%cd CUT"
      ],
      "execution_count": null,
      "outputs": []
    },
    {
      "cell_type": "markdown",
      "metadata": {
        "id": "n1tdZoGaMOGf",
        "colab_type": "text"
      },
      "source": [
        "## Train\n",
        "Create a folder in `./datasets` and put two folders inside it. `trainA` should contain images from one domain and `trainB` should contain images from another domain. "
      ]
    },
    {
      "cell_type": "code",
      "metadata": {
        "id": "uRI0XL6xK386",
        "colab_type": "code",
        "colab": {}
      },
      "source": [
        "#example: download the russian blue cats to grumpy cats dataset\n",
        "!bash ./datasets/download_cut_dataset.sh grumpifycat"
      ],
      "execution_count": null,
      "outputs": []
    },
    {
      "cell_type": "markdown",
      "metadata": {
        "id": "f9ItLTLEUSWG",
        "colab_type": "text"
      },
      "source": [
        "This code repo is based on the [popular pix2pix and CycleGAN repo](https://github.com/junyanz/pytorch-CycleGAN-and-pix2pix). Many of the options and settings are the same. There are a few helpful pages in that repo that are applicable here as well:\n",
        "\n",
        "*   [Training and Testing Tips](https://github.com/junyanz/pytorch-CycleGAN-and-pix2pix/blob/master/docs/tips.md)\n",
        "*   [FAQ](https://github.com/junyanz/pytorch-CycleGAN-and-pix2pix/blob/master/docs/qa.md)\n",
        "\n",
        "There are also many other options to check out in the files contained in the `options` folder.\n",
        "\n"
      ]
    },
    {
      "cell_type": "code",
      "metadata": {
        "id": "t_npjQWxMjkr",
        "colab_type": "code",
        "colab": {}
      },
      "source": [
        "dataset_path = './datasets/grumpifycat'\n",
        "project_name = 'grumpycat_CUT'\n",
        "load_size = 286\n",
        "crop_size = 256"
      ],
      "execution_count": null,
      "outputs": []
    },
    {
      "cell_type": "code",
      "metadata": {
        "id": "6WEJ3xy9K8ck",
        "colab_type": "code",
        "colab": {}
      },
      "source": [
        "!python train.py --dataroot $dataset_path --name $project_name --CUT_mode CUT --load_size $load_size --crop_size $crop_size --display_id 0"
      ],
      "execution_count": null,
      "outputs": []
    },
    {
      "cell_type": "markdown",
      "metadata": {
        "id": "AbBSlniqPEiK",
        "colab_type": "text"
      },
      "source": [
        "##Test"
      ]
    },
    {
      "cell_type": "code",
      "metadata": {
        "id": "7vgnZhxLOEHf",
        "colab_type": "code",
        "colab": {}
      },
      "source": [
        "python test.py --dataroot ./datasets/grumpifycat --name grumpycat_CUT --CUT_mode CUT --phase train"
      ],
      "execution_count": null,
      "outputs": []
    }
  ]
}