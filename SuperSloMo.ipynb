{
  "nbformat": 4,
  "nbformat_minor": 0,
  "metadata": {
    "colab": {
      "name": "SuperSloMo.ipynb",
      "provenance": [],
      "collapsed_sections": [],
      "authorship_tag": "ABX9TyPZD/VyhHqPhgWqFYsz6key",
      "include_colab_link": true
    },
    "kernelspec": {
      "name": "python3",
      "display_name": "Python 3"
    },
    "accelerator": "GPU"
  },
  "cells": [
    {
      "cell_type": "markdown",
      "metadata": {
        "id": "view-in-github",
        "colab_type": "text"
      },
      "source": [
        "<a href=\"https://colab.research.google.com/github/dvschultz/ml-art-colabs/blob/master/SuperSloMo.ipynb\" target=\"_parent\"><img src=\"https://colab.research.google.com/assets/colab-badge.svg\" alt=\"Open In Colab\"/></a>"
      ]
    },
    {
      "cell_type": "markdown",
      "metadata": {
        "id": "AOyS3v6f3ALs",
        "colab_type": "text"
      },
      "source": [
        "# Super SloMo\n",
        "ML model that slows video down"
      ]
    },
    {
      "cell_type": "code",
      "metadata": {
        "id": "sx_TxbR4NbRy",
        "colab_type": "code",
        "colab": {}
      },
      "source": [
        "!git clone https://github.com/avinashpaliwal/Super-SloMo\n",
        "#download pre-trained checkpoint\n",
        "!gdown --id 1IvobLDbRiBgZr3ryCRrWL8xDbMZ-KnpF"
      ],
      "execution_count": null,
      "outputs": []
    },
    {
      "cell_type": "code",
      "metadata": {
        "id": "WyvRztbtOt_V",
        "colab_type": "code",
        "colab": {}
      },
      "source": [
        "!python Super-SloMo/video_to_slomo.py --help"
      ],
      "execution_count": null,
      "outputs": []
    },
    {
      "cell_type": "markdown",
      "metadata": {
        "id": "UkCREPtx3Q6U",
        "colab_type": "text"
      },
      "source": [
        "##Generate Slowed Video"
      ]
    },
    {
      "cell_type": "code",
      "metadata": {
        "id": "nChI5ONiNhm6",
        "colab_type": "code",
        "colab": {}
      },
      "source": [
        "!python Super-SloMo/video_to_slomo.py --ffmpeg /usr/bin/ --video /content/ladiescrop28-rotate-layer3.mp4 --sf 3 --checkpoint /content/SuperSloMo.ckpt --fps 30 --output /content/output.mkv"
      ],
      "execution_count": null,
      "outputs": []
    },
    {
      "cell_type": "code",
      "metadata": {
        "id": "Np2U1QKCRGrR",
        "colab_type": "code",
        "colab": {}
      },
      "source": [
        "def show_local_mp4_video(file_name, width=640, height=480):\n",
        "  import io\n",
        "  import base64\n",
        "  from IPython.display import HTML\n",
        "  video_encoded = base64.b64encode(io.open(file_name, 'rb').read())\n",
        "  return HTML(data='''<video width=\"{0}\" height=\"{1}\" alt=\"test\" controls>\n",
        "                        <source src=\"data:video/mp4;base64,{2}\" type=\"video/mp4\" />\n",
        "                      </video>'''.format(width, height, video_encoded.decode('ascii')))\n"
      ],
      "execution_count": null,
      "outputs": []
    },
    {
      "cell_type": "code",
      "metadata": {
        "id": "JWv0U9ZESNLQ",
        "colab_type": "code",
        "colab": {}
      },
      "source": [
        "show_local_mp4_video('output.mp4', width=960, height=720)"
      ],
      "execution_count": null,
      "outputs": []
    },
    {
      "cell_type": "code",
      "metadata": {
        "id": "Y_AJtKIYSVGM",
        "colab_type": "code",
        "colab": {}
      },
      "source": [
        ""
      ],
      "execution_count": null,
      "outputs": []
    },
    {
      "cell_type": "code",
      "metadata": {
        "id": "_PmaAJeNSZLq",
        "colab_type": "code",
        "colab": {}
      },
      "source": [
        "from google.colab import drive\n",
        "drive.mount('/content/drive')"
      ],
      "execution_count": null,
      "outputs": []
    },
    {
      "cell_type": "code",
      "metadata": {
        "id": "zNawFB1fSZxh",
        "colab_type": "code",
        "colab": {}
      },
      "source": [
        "mv /content/output.mkv /content/drive/My\\ Drive/output.mkv"
      ],
      "execution_count": null,
      "outputs": []
    },
    {
      "cell_type": "code",
      "metadata": {
        "id": "D6s05nOUSnXC",
        "colab_type": "code",
        "colab": {}
      },
      "source": [
        ""
      ],
      "execution_count": null,
      "outputs": []
    }
  ]
}